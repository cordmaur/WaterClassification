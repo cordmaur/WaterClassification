{
 "cells": [
  {
   "cell_type": "code",
   "execution_count": 1,
   "id": "3f781241-7e96-48d0-ba83-d8b2f4b758f6",
   "metadata": {},
   "outputs": [],
   "source": [
    "import sys"
   ]
  },
  {
   "cell_type": "code",
   "execution_count": 2,
   "id": "63799525-7018-4e2c-b3ac-46175f279eca",
   "metadata": {},
   "outputs": [],
   "source": [
    "import requests"
   ]
  },
  {
   "cell_type": "code",
   "execution_count": null,
   "id": "7347f73b-e24a-4bed-b566-5f527a87929a",
   "metadata": {},
   "outputs": [],
   "source": [
    "requests."
   ]
  },
  {
   "cell_type": "code",
   "execution_count": null,
   "id": "57f5f97a-fa2a-4f12-911b-af12e5713611",
   "metadata": {},
   "outputs": [],
   "source": [
    "import "
   ]
  },
  {
   "cell_type": "code",
   "execution_count": 2,
   "id": "f5f0fc54-7f62-4e85-90d1-17877076c41f",
   "metadata": {},
   "outputs": [],
   "source": [
    "import functools"
   ]
  }
 ],
 "metadata": {
  "kernelspec": {
   "display_name": "Python3",
   "language": "python",
   "name": "python3"
  },
  "language_info": {
   "codemirror_mode": {
    "name": "ipython",
    "version": 3
   },
   "file_extension": ".py",
   "mimetype": "text/x-python",
   "name": "python",
   "nbconvert_exporter": "python",
   "pygments_lexer": "ipython3",
   "version": "3.6.13"
  }
 },
 "nbformat": 4,
 "nbformat_minor": 5
}
